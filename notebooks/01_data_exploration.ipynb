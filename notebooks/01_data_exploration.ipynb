{
 "cells": [
  {
   "cell_type": "code",
   "execution_count": null,
   "id": "6896ab31",
   "metadata": {
    "vscode": {
     "languageId": "plaintext"
    }
   },
   "outputs": [],
   "source": [
    "import pandas as pd\n",
    "import matplotlib.pyplot as plt\n",
    "import seaborn as sns\n",
    "import os\n",
    "from PIL import Image\n",
    "\n",
    "mapping_df = pd.read_csv(\"data/gz2_filename_mapping.csv\")  \n",
    "print(\"Mapping shape:\", mapping_df.shape)\n",
    "mapping_df.head()\n",
    "\n",
    "labels_df = pd.read_csv(\"data/gz2_table1.csv\") \n",
    "print(\"Labels shape:\", labels_df.shape)\n",
    "labels_df.head()\n",
    "\n",
    "df = mapping_df.merge(labels_df, on=\"objid\", how=\"inner\")\n",
    "print(\"Merged dataset shape:\", df.shape)\n",
    "df.head()\n",
    "\n",
    "if \"class\" in df.columns:\n",
    "    sns.countplot(x=\"class\", data=df)\n",
    "    plt.title(\"Galaxy Class Distribution\")\n",
    "    plt.show()\n",
    "\n",
    "sample = df.sample(5, random_state=42)\n",
    "\n",
    "fig, axes = plt.subplots(1, 5, figsize=(15, 5))\n",
    "for ax, row in zip(axes, sample.itertuples()):\n",
    "    img_path = os.path.join(\"data/images_gz2\", f\"{row.asset_id}.jpg\")\n",
    "    if os.path.exists(img_path):\n",
    "        img = Image.open(img_path)\n",
    "        ax.imshow(img)\n",
    "        ax.set_title(row.class if \"class\" in df.columns else \"unknown\")\n",
    "        ax.axis(\"off\")\n",
    "plt.show()\n"
   ]
  }
 ],
 "metadata": {
  "language_info": {
   "name": "python"
  }
 },
 "nbformat": 4,
 "nbformat_minor": 5
}
